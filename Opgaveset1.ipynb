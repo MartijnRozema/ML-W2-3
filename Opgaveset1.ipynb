{
 "cells": [
  {
   "cell_type": "code",
   "execution_count": 1,
   "id": "7983f34c-bf3a-43b9-8af8-8963f2d69055",
   "metadata": {},
   "outputs": [],
   "source": [
    "from sklearn.datasets import load_iris\n",
    "import numpy as np"
   ]
  },
  {
   "cell_type": "code",
   "execution_count": 2,
   "id": "a284d7e7-fa29-4d7b-8727-542337f56d68",
   "metadata": {},
   "outputs": [],
   "source": [
    "data = load_iris()"
   ]
  },
  {
   "cell_type": "code",
   "execution_count": 3,
   "id": "6e831b42-869e-4e0a-9927-7e4c3f85a6cc",
   "metadata": {},
   "outputs": [],
   "source": [
    "X = data.data\n",
    "y = data.target"
   ]
  },
  {
   "cell_type": "code",
   "execution_count": 4,
   "id": "3d69d04a-29aa-4140-944d-c0352210690a",
   "metadata": {},
   "outputs": [
    {
     "name": "stdout",
     "output_type": "stream",
     "text": [
      "(150, 4)\n"
     ]
    }
   ],
   "source": [
    "print(X.shape)"
   ]
  },
  {
   "cell_type": "code",
   "execution_count": 5,
   "id": "432fc4b1-18e0-4eed-9328-79bd9072624e",
   "metadata": {},
   "outputs": [
    {
     "name": "stdout",
     "output_type": "stream",
     "text": [
      "(150,)\n"
     ]
    }
   ],
   "source": [
    "print(y.shape)"
   ]
  },
  {
   "cell_type": "code",
   "execution_count": 6,
   "id": "e275d7ae-fe88-4fdd-b92e-f98ad52eeccf",
   "metadata": {},
   "outputs": [
    {
     "name": "stdout",
     "output_type": "stream",
     "text": [
      "['setosa', 'versicolor', 'virginica']\n"
     ]
    }
   ],
   "source": [
    "print(list(data.target_names))"
   ]
  },
  {
   "cell_type": "code",
   "execution_count": 7,
   "id": "6d37524c-a62d-48a0-a015-d92e7bb80545",
   "metadata": {},
   "outputs": [],
   "source": [
    "y[y == 0] = 0\n",
    "y[y == 1] = 0\n",
    "y[y == 2] = 1"
   ]
  },
  {
   "cell_type": "code",
   "execution_count": 8,
   "id": "3f7dff39-5dc9-4235-a595-fb4da458e958",
   "metadata": {},
   "outputs": [
    {
     "name": "stdout",
     "output_type": "stream",
     "text": [
      "[0 0 0 0 0 0 0 0 0 0 0 0 0 0 0 0 0 0 0 0 0 0 0 0 0 0 0 0 0 0 0 0 0 0 0 0 0\n",
      " 0 0 0 0 0 0 0 0 0 0 0 0 0 0 0 0 0 0 0 0 0 0 0 0 0 0 0 0 0 0 0 0 0 0 0 0 0\n",
      " 0 0 0 0 0 0 0 0 0 0 0 0 0 0 0 0 0 0 0 0 0 0 0 0 0 0 1 1 1 1 1 1 1 1 1 1 1\n",
      " 1 1 1 1 1 1 1 1 1 1 1 1 1 1 1 1 1 1 1 1 1 1 1 1 1 1 1 1 1 1 1 1 1 1 1 1 1\n",
      " 1 1]\n"
     ]
    }
   ],
   "source": [
    "print(y)"
   ]
  },
  {
   "cell_type": "code",
   "execution_count": 9,
   "id": "bc3fbcf1-f173-4993-9a70-e8d3a895940f",
   "metadata": {},
   "outputs": [
    {
     "name": "stdout",
     "output_type": "stream",
     "text": [
      "(150,)\n"
     ]
    }
   ],
   "source": [
    "print(y.shape)"
   ]
  },
  {
   "cell_type": "code",
   "execution_count": 10,
   "id": "3dedee6f-3579-4b0a-82cb-3aac9f8d1735",
   "metadata": {},
   "outputs": [],
   "source": [
    "def sigmoid(X):\n",
    "    return 1 / (1 + np.exp(-X))"
   ]
  },
  {
   "cell_type": "code",
   "execution_count": 18,
   "id": "8b9ffb8a-c06a-4312-90ef-2737b14bfeda",
   "metadata": {},
   "outputs": [],
   "source": [
    "theta = np.ones(X.shape[1])"
   ]
  },
  {
   "cell_type": "code",
   "execution_count": 19,
   "id": "868b2845-45d0-4905-82cf-2490165038a2",
   "metadata": {},
   "outputs": [
    {
     "name": "stdout",
     "output_type": "stream",
     "text": [
      "[1. 1. 1. 1.]\n"
     ]
    }
   ],
   "source": [
    "print(theta)"
   ]
  },
  {
   "cell_type": "code",
   "execution_count": 20,
   "id": "40b245ca-7683-48d9-a4fd-d57c4a55d341",
   "metadata": {},
   "outputs": [
    {
     "name": "stdout",
     "output_type": "stream",
     "text": [
      "(4,)\n"
     ]
    }
   ],
   "source": [
    "print(theta.shape)"
   ]
  },
  {
   "cell_type": "code",
   "execution_count": 14,
   "id": "2c6d019d-3827-458d-97ff-c5b60ed7247e",
   "metadata": {},
   "outputs": [],
   "source": [
    "num_iterations = 1500\n",
    "learning_rate = 0.01"
   ]
  },
  {
   "cell_type": "code",
   "execution_count": 15,
   "id": "a5ea4215-0688-4d45-b244-d608072c0e2f",
   "metadata": {},
   "outputs": [
    {
     "name": "stdout",
     "output_type": "stream",
     "text": [
      "Iteratie 0: Kosten = 8.144684883132184\n",
      "Iteratie 100: Kosten = 0.4250139765215402\n",
      "Iteratie 200: Kosten = 0.37974527943083203\n",
      "Iteratie 300: Kosten = 0.35138013180085015\n",
      "Iteratie 400: Kosten = 0.3313849774161803\n",
      "Iteratie 500: Kosten = 0.31614369193376524\n",
      "Iteratie 600: Kosten = 0.303885146351607\n",
      "Iteratie 700: Kosten = 0.2936419775239679\n",
      "Iteratie 800: Kosten = 0.2848400040813716\n",
      "Iteratie 900: Kosten = 0.27711554507747804\n",
      "Iteratie 1000: Kosten = 0.27022597008476035\n",
      "Iteratie 1100: Kosten = 0.2640023971223373\n",
      "Iteratie 1200: Kosten = 0.258323057711757\n",
      "Iteratie 1300: Kosten = 0.2530974981161435\n",
      "Iteratie 1400: Kosten = 0.24825678931240366\n"
     ]
    }
   ],
   "source": [
    "for i in range(num_iterations):\n",
    "    # Bereken de voorspellingen\n",
    "    z = np.dot(X, theta)\n",
    "    predictions = sigmoid(z)\n",
    "    \n",
    "    # Bereken de fouten (kosten)\n",
    "    difference = predictions - y\n",
    "    \n",
    "    # Bereken de gradient en pas theta aan\n",
    "    gradient = np.dot(difference, X) / len(y)\n",
    "    theta -= learning_rate * gradient\n",
    "    \n",
    "    # Bereken de kosten voor deze iteratie\n",
    "    cost = (1 / len(y)) * np.sum(-y * np.log(predictions) - (1 - y) * np.log(1 - predictions))\n",
    "    \n",
    "    # Print de kosten voor elke 100 iteraties\n",
    "    if i % 100 == 0:\n",
    "        print(f\"Iteratie {i}: Kosten = {cost}\")"
   ]
  },
  {
   "cell_type": "code",
   "execution_count": null,
   "id": "7cf1a909-4a86-4d41-ace6-f34ce62d4307",
   "metadata": {},
   "outputs": [],
   "source": []
  },
  {
   "cell_type": "code",
   "execution_count": null,
   "id": "b0568c8e-8368-4185-adcb-6af462d57bc0",
   "metadata": {},
   "outputs": [],
   "source": []
  },
  {
   "cell_type": "code",
   "execution_count": null,
   "id": "18a24dd7-1682-4a68-a8a6-6ce2390b2dd5",
   "metadata": {},
   "outputs": [],
   "source": []
  }
 ],
 "metadata": {
  "kernelspec": {
   "display_name": "Python 3 (ipykernel)",
   "language": "python",
   "name": "python3"
  },
  "language_info": {
   "codemirror_mode": {
    "name": "ipython",
    "version": 3
   },
   "file_extension": ".py",
   "mimetype": "text/x-python",
   "name": "python",
   "nbconvert_exporter": "python",
   "pygments_lexer": "ipython3",
   "version": "3.9.0"
  }
 },
 "nbformat": 4,
 "nbformat_minor": 5
}
